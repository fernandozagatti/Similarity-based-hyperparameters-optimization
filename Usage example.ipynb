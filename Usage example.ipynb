{
 "cells": [
  {
   "cell_type": "code",
   "execution_count": 1,
   "id": "bc41549f",
   "metadata": {},
   "outputs": [
    {
     "name": "stdout",
     "output_type": "stream",
     "text": [
      "Optimizing vectorizer hyperparameters...\n",
      "\n",
      "Initializing with default parameters...\n",
      "Default parameters: {'analyzer': 'word', 'binary': False, 'decode_error': 'strict', 'dtype': <class 'numpy.float64'>, 'encoding': 'utf-8', 'input': 'content', 'lowercase': True, 'max_df': 1.0, 'max_features': None, 'min_df': 1, 'ngram_range': (1, 1), 'norm': 'l2', 'preprocessor': None, 'smooth_idf': True, 'stop_words': None, 'strip_accents': None, 'sublinear_tf': False, 'token_pattern': '(?u)\\\\b\\\\w\\\\w+\\\\b', 'tokenizer': None, 'use_idf': True, 'vocabulary': None}\n",
      "Initial similarity: 0.01799782452578251\n",
      "\n",
      "[1/8] Testing parameters: {'max_df': 1.0, 'max_features': 100, 'min_df': 1, 'ngram_range': (1, 1), 'norm': 'l1'}\n",
      "Similarity: 0.06483183636680319 | Best: 0.01799782452578251\n",
      "Time: 1.68s | Remaining: 11.79s\n",
      "\n",
      "[2/8] Testing parameters: {'max_df': 1.0, 'max_features': 100, 'min_df': 1, 'ngram_range': (1, 3), 'norm': 'l1'}\n",
      "Similarity: 0.06473576120823363 | Best: 0.01799782452578251\n",
      "Time: 2.02s | Remaining: 6.07s\n",
      "\n",
      "[3/8] Testing parameters: {'max_df': 1.0, 'max_features': 100, 'min_df': 10, 'ngram_range': (1, 1), 'norm': 'l1'}\n",
      "Similarity: 0.06483183636680319 | Best: 0.01799782452578251\n",
      "Time: 2.20s | Remaining: 3.67s\n",
      "\n",
      "[4/8] Testing parameters: {'max_df': 1.0, 'max_features': 100, 'min_df': 10, 'ngram_range': (1, 3), 'norm': 'l1'}\n",
      "Similarity: 0.06473576120823363 | Best: 0.01799782452578251\n",
      "Time: 2.53s | Remaining: 2.53s\n",
      "\n",
      "[5/8] Testing parameters: {'max_df': 1.0, 'max_features': 5000, 'min_df': 1, 'ngram_range': (1, 1), 'norm': 'l1'}\n",
      "Similarity: 0.019863645428466883 | Best: 0.01799782452578251\n",
      "Time: 3.43s | Remaining: 2.06s\n",
      "\n",
      "[6/8] Testing parameters: {'max_df': 1.0, 'max_features': 5000, 'min_df': 1, 'ngram_range': (1, 3), 'norm': 'l1'}\n",
      "Similarity: 0.015323073468084668 | Best: 0.015323073468084668\n",
      "Time: 4.52s | Remaining: 1.51s\n",
      "\n",
      "[7/8] Testing parameters: {'max_df': 1.0, 'max_features': 5000, 'min_df': 10, 'ngram_range': (1, 1), 'norm': 'l1'}\n",
      "Similarity: 0.028493502933226028 | Best: 0.015323073468084668\n",
      "Time: 4.84s | Remaining: 0.69s\n",
      "\n",
      "[8/8] Testing parameters: {'max_df': 1.0, 'max_features': 5000, 'min_df': 10, 'ngram_range': (1, 3), 'norm': 'l1'}\n",
      "Similarity: 0.021724538175907495 | Best: 0.015323073468084668\n",
      "Time: 5.40s | Remaining: 0.00s\n",
      "\n",
      "Best parameters: {'analyzer': 'word', 'binary': False, 'decode_error': 'strict', 'dtype': <class 'numpy.float64'>, 'encoding': 'utf-8', 'input': 'content', 'lowercase': True, 'max_df': 1.0, 'max_features': 5000, 'min_df': 1, 'ngram_range': (1, 3), 'norm': 'l1', 'preprocessor': None, 'smooth_idf': True, 'stop_words': None, 'strip_accents': None, 'sublinear_tf': False, 'token_pattern': '(?u)\\\\b\\\\w\\\\w+\\\\b', 'tokenizer': None, 'use_idf': True, 'vocabulary': None}\n",
      "Best similarity: 0.015323073468084668\n"
     ]
    }
   ],
   "source": [
    "from preprocessing.vector_optimization import VectorOptimizer\n",
    "import pandas as pd\n",
    "\n",
    "param_grid = {\n",
    "    'max_features': [100, 5000],\n",
    "    'ngram_range': [(1, 1), (1, 3)],\n",
    "    'min_df': [1, 10],\n",
    "    'max_df': [1.0],\n",
    "    'norm': ['l1']\n",
    "}\n",
    "\n",
    "df_name = 'spam_or_ham.csv'\n",
    "df = pd.read_csv(f'datasets/{df_name}')\n",
    "\n",
    "optimizer = VectorOptimizer()\n",
    "best_parameters, score = optimizer.optimize_vectorizer(data=df, text_column='sms', vectorizer_type='tf-idf', parameters_grid=param_grid, verbose=1)"
   ]
  }
 ],
 "metadata": {
  "colab": {
   "provenance": []
  },
  "kernelspec": {
   "display_name": ".venv",
   "language": "python",
   "name": "python3"
  },
  "language_info": {
   "codemirror_mode": {
    "name": "ipython",
    "version": 3
   },
   "file_extension": ".py",
   "mimetype": "text/x-python",
   "name": "python",
   "nbconvert_exporter": "python",
   "pygments_lexer": "ipython3",
   "version": "3.9.1rc1"
  }
 },
 "nbformat": 4,
 "nbformat_minor": 5
}
